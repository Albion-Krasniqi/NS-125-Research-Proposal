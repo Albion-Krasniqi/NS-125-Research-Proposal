{
 "cells": [
  {
   "cell_type": "code",
   "execution_count": 1,
   "metadata": {},
   "outputs": [],
   "source": [
    "import pandas as pd\n",
    "import matplotlib.pyplot as plt"
   ]
  },
  {
   "cell_type": "code",
   "execution_count": 2,
   "metadata": {},
   "outputs": [
    {
     "data": {
      "text/html": [
       "<div>\n",
       "<style scoped>\n",
       "    .dataframe tbody tr th:only-of-type {\n",
       "        vertical-align: middle;\n",
       "    }\n",
       "\n",
       "    .dataframe tbody tr th {\n",
       "        vertical-align: top;\n",
       "    }\n",
       "\n",
       "    .dataframe thead th {\n",
       "        text-align: right;\n",
       "    }\n",
       "</style>\n",
       "<table border=\"1\" class=\"dataframe\">\n",
       "  <thead>\n",
       "    <tr style=\"text-align: right;\">\n",
       "      <th></th>\n",
       "      <th>Unnamed: 0</th>\n",
       "      <th>Country</th>\n",
       "      <th>Year</th>\n",
       "      <th>id</th>\n",
       "      <th>Subtype</th>\n",
       "      <th>Post</th>\n",
       "      <th>Days</th>\n",
       "      <th>gdpc</th>\n",
       "      <th>FinStability</th>\n",
       "      <th>Freedom</th>\n",
       "      <th>...</th>\n",
       "      <th>lag_5</th>\n",
       "      <th>lag_6</th>\n",
       "      <th>lag_7</th>\n",
       "      <th>lag_8</th>\n",
       "      <th>lag_9</th>\n",
       "      <th>lag_10</th>\n",
       "      <th>lag_11</th>\n",
       "      <th>lag_12</th>\n",
       "      <th>lag_13</th>\n",
       "      <th>lag_14</th>\n",
       "    </tr>\n",
       "  </thead>\n",
       "  <tbody>\n",
       "    <tr>\n",
       "      <th>0</th>\n",
       "      <td>0</td>\n",
       "      <td>United States</td>\n",
       "      <td>2002</td>\n",
       "      <td>1</td>\n",
       "      <td>0</td>\n",
       "      <td>0.893151</td>\n",
       "      <td>39</td>\n",
       "      <td>38023.16111</td>\n",
       "      <td>25.6634</td>\n",
       "      <td>78.4</td>\n",
       "      <td>...</td>\n",
       "      <td>0</td>\n",
       "      <td>0</td>\n",
       "      <td>0</td>\n",
       "      <td>0</td>\n",
       "      <td>0</td>\n",
       "      <td>0</td>\n",
       "      <td>0</td>\n",
       "      <td>0</td>\n",
       "      <td>0</td>\n",
       "      <td>0</td>\n",
       "    </tr>\n",
       "    <tr>\n",
       "      <th>1</th>\n",
       "      <td>8</td>\n",
       "      <td>United States</td>\n",
       "      <td>2003</td>\n",
       "      <td>1</td>\n",
       "      <td>0</td>\n",
       "      <td>1.000000</td>\n",
       "      <td>0</td>\n",
       "      <td>39496.48588</td>\n",
       "      <td>25.6082</td>\n",
       "      <td>78.2</td>\n",
       "      <td>...</td>\n",
       "      <td>0</td>\n",
       "      <td>0</td>\n",
       "      <td>0</td>\n",
       "      <td>0</td>\n",
       "      <td>0</td>\n",
       "      <td>0</td>\n",
       "      <td>0</td>\n",
       "      <td>0</td>\n",
       "      <td>0</td>\n",
       "      <td>0</td>\n",
       "    </tr>\n",
       "    <tr>\n",
       "      <th>2</th>\n",
       "      <td>9</td>\n",
       "      <td>United States</td>\n",
       "      <td>2004</td>\n",
       "      <td>1</td>\n",
       "      <td>0</td>\n",
       "      <td>1.000000</td>\n",
       "      <td>0</td>\n",
       "      <td>41712.80107</td>\n",
       "      <td>27.6959</td>\n",
       "      <td>78.7</td>\n",
       "      <td>...</td>\n",
       "      <td>0</td>\n",
       "      <td>0</td>\n",
       "      <td>0</td>\n",
       "      <td>0</td>\n",
       "      <td>0</td>\n",
       "      <td>0</td>\n",
       "      <td>0</td>\n",
       "      <td>0</td>\n",
       "      <td>0</td>\n",
       "      <td>0</td>\n",
       "    </tr>\n",
       "    <tr>\n",
       "      <th>3</th>\n",
       "      <td>10</td>\n",
       "      <td>United States</td>\n",
       "      <td>2005</td>\n",
       "      <td>1</td>\n",
       "      <td>0</td>\n",
       "      <td>1.000000</td>\n",
       "      <td>0</td>\n",
       "      <td>44114.74778</td>\n",
       "      <td>27.6230</td>\n",
       "      <td>79.9</td>\n",
       "      <td>...</td>\n",
       "      <td>0</td>\n",
       "      <td>0</td>\n",
       "      <td>0</td>\n",
       "      <td>0</td>\n",
       "      <td>0</td>\n",
       "      <td>0</td>\n",
       "      <td>0</td>\n",
       "      <td>0</td>\n",
       "      <td>0</td>\n",
       "      <td>0</td>\n",
       "    </tr>\n",
       "    <tr>\n",
       "      <th>4</th>\n",
       "      <td>11</td>\n",
       "      <td>United States</td>\n",
       "      <td>2006</td>\n",
       "      <td>1</td>\n",
       "      <td>0</td>\n",
       "      <td>1.000000</td>\n",
       "      <td>0</td>\n",
       "      <td>46298.73144</td>\n",
       "      <td>27.7233</td>\n",
       "      <td>81.2</td>\n",
       "      <td>...</td>\n",
       "      <td>0</td>\n",
       "      <td>0</td>\n",
       "      <td>0</td>\n",
       "      <td>0</td>\n",
       "      <td>0</td>\n",
       "      <td>0</td>\n",
       "      <td>0</td>\n",
       "      <td>0</td>\n",
       "      <td>0</td>\n",
       "      <td>0</td>\n",
       "    </tr>\n",
       "  </tbody>\n",
       "</table>\n",
       "<p>5 rows × 40 columns</p>\n",
       "</div>"
      ],
      "text/plain": [
       "   Unnamed: 0        Country  Year  id  Subtype      Post  Days         gdpc  \\\n",
       "0           0  United States  2002   1        0  0.893151    39  38023.16111   \n",
       "1           8  United States  2003   1        0  1.000000     0  39496.48588   \n",
       "2           9  United States  2004   1        0  1.000000     0  41712.80107   \n",
       "3          10  United States  2005   1        0  1.000000     0  44114.74778   \n",
       "4          11  United States  2006   1        0  1.000000     0  46298.73144   \n",
       "\n",
       "   FinStability  Freedom  ...  lag_5  lag_6  lag_7  lag_8  lag_9  lag_10  \\\n",
       "0       25.6634     78.4  ...      0      0      0      0      0       0   \n",
       "1       25.6082     78.2  ...      0      0      0      0      0       0   \n",
       "2       27.6959     78.7  ...      0      0      0      0      0       0   \n",
       "3       27.6230     79.9  ...      0      0      0      0      0       0   \n",
       "4       27.7233     81.2  ...      0      0      0      0      0       0   \n",
       "\n",
       "   lag_11  lag_12  lag_13  lag_14  \n",
       "0       0       0       0       0  \n",
       "1       0       0       0       0  \n",
       "2       0       0       0       0  \n",
       "3       0       0       0       0  \n",
       "4       0       0       0       0  \n",
       "\n",
       "[5 rows x 40 columns]"
      ]
     },
     "execution_count": 2,
     "metadata": {},
     "output_type": "execute_result"
    }
   ],
   "source": [
    "olympics = pd.read_csv('olympics.csv')\n",
    "olympics.head()"
   ]
  },
  {
   "cell_type": "code",
   "execution_count": 3,
   "metadata": {},
   "outputs": [
    {
     "data": {
      "image/png": "[encoded data removed]",
      "text/plain": [
       "<Figure size 432x288 with 1 Axes>"
      ]
     },
     "metadata": {
      "needs_background": "light"
     },
     "output_type": "display_data"
    }
   ],
   "source": [
    "greece_data = olympics[olympics['Country'] == 'Greece']\n",
    "greece_data_gdp = greece_data['gdpc']\n",
    "\n",
    "greece_data_gdp_pct_change = greece_data_gdp.pct_change()\n",
    "\n",
    "\n",
    "# Creating figure\n",
    "fig = plt.figure()\n",
    " \n",
    "# Adding axes on the figure\n",
    "ax = fig.add_subplot(111)\n",
    "\n",
    "ax.bar(greece_data['Year'], greece_data_gdp_pct_change)\n",
    "ax.axvline(x=2004, color='red')\n",
    "\n",
    "# Adding axis title\n",
    "ax.set_xlabel(\"Year\", fontsize = 12)\n",
    "ax.set_ylabel(\"Percentage change in GDP per capita\",fontsize = 12)\n",
    " \n",
    "# Setting axis limits\n",
    "ax.axis([2002, 2018, -0.30, 0.6])\n",
    " \n",
    "# Adding text without box on the plot.\n",
    "ax.text(2013.5, 0.52, 'Greece - 2004', fontsize = 12)\n",
    "\n",
    "plt.show()"
   ]
  },
  {
   "cell_type": "code",
   "execution_count": 4,
   "metadata": {},
   "outputs": [
    {
     "data": {
      "image/png": "[encoded data removed]",
      "text/plain": [
       "<Figure size 432x288 with 1 Axes>"
      ]
     },
     "metadata": {
      "needs_background": "light"
     },
     "output_type": "display_data"
    }
   ],
   "source": [
    "china_data = olympics[olympics['Country'] == 'China']\n",
    "china_data_gdp = china_data['gdpc']\n",
    "china_data_gdp_pct_change = china_data_gdp.pct_change()\n",
    "\n",
    "\n",
    "# Creating figure\n",
    "fig = plt.figure()\n",
    " \n",
    "# Adding axes on the figure\n",
    "ax = fig.add_subplot(111)\n",
    "\n",
    "ax.bar(china_data['Year']+1, china_data_gdp_pct_change)\n",
    "ax.axvline(x=2008, color='red')\n",
    "\n",
    "# Adding axis title\n",
    "ax.set_xlabel(\"Year\", fontsize = 12)\n",
    "ax.set_ylabel(\"Percentage change in GDP per capita\",fontsize = 12)\n",
    " \n",
    "# Setting axis limits\n",
    "ax.axis([2003, 2018, 0, 0.3])\n",
    " \n",
    "# Adding text without box on the plot.\n",
    "ax.text(2014, 0.27, 'China - 2008', fontsize = 12)\n",
    "\n",
    "plt.show()"
   ]
  },
  {
   "cell_type": "code",
   "execution_count": 5,
   "metadata": {},
   "outputs": [
    {
     "data": {
      "image/png": "[encoded data removed]",
      "text/plain": [
       "<Figure size 432x288 with 1 Axes>"
      ]
     },
     "metadata": {
      "needs_background": "light"
     },
     "output_type": "display_data"
    }
   ],
   "source": [
    "uk_data = olympics[olympics['Country'] == 'United Kingdom']\n",
    "uk_data_gdp = uk_data['gdpc']\n",
    "a = uk_data_gdp.pct_change()\n",
    "\n",
    "# Creating figure\n",
    "fig = plt.figure()\n",
    " \n",
    "# Adding axes on the figure\n",
    "ax = fig.add_subplot(111)\n",
    "\n",
    "ax.bar(uk_data['Year']+2, a)\n",
    "ax.axvline(x=2012, color='red')\n",
    "\n",
    "# Adding axis title\n",
    "ax.set_xlabel(\"Year\", fontsize = 12)\n",
    "ax.set_ylabel(\"Percentage change in GDP per capita\",fontsize = 12)\n",
    " \n",
    "# Setting axis limits\n",
    "ax.axis([2004, 2019, -0.2, 0.2])\n",
    " \n",
    "# Adding text without box on the plot.\n",
    "ax.text(2012.5, 0.17, 'United Kingdom - 2012', fontsize = 12)\n",
    "\n",
    "plt.show()"
   ]
  },
  {
   "cell_type": "code",
   "execution_count": 6,
   "metadata": {},
   "outputs": [
    {
     "data": {
      "image/png": "[encoded data removed]",
      "text/plain": [
       "<Figure size 432x288 with 1 Axes>"
      ]
     },
     "metadata": {
      "needs_background": "light"
     },
     "output_type": "display_data"
    }
   ],
   "source": [
    "brazil_data = olympics[olympics['Country'] == 'Brazil']\n",
    "brazil_data_gdp = brazil_data['gdpc']\n",
    "brazil_data_gdp_pct_change = brazil_data_gdp.pct_change()\n",
    "\n",
    "# Creating figure\n",
    "fig = plt.figure()\n",
    " \n",
    "# Adding axes on the figure\n",
    "ax = fig.add_subplot(111)\n",
    "\n",
    "ax.bar(brazil_data['Year']+2, brazil_data_gdp_pct_change)\n",
    "ax.axvline(x=2016, color='red')\n",
    "\n",
    "# Adding axis title\n",
    "ax.set_xlabel(\"Year\", fontsize = 12)\n",
    "ax.set_ylabel(\"Percentage change in GDP per capita\",fontsize = 12)\n",
    " \n",
    "# Setting axis limits\n",
    "ax.axis([2004, 2019, -0.25, 0.35])\n",
    " \n",
    "# Adding text without box on the plot.\n",
    "ax.text(2015, 0.28, 'Brazil - 2016', fontsize = 12)\n",
    "\n",
    "plt.show()"
   ]
  },
  {
   "cell_type": "code",
   "execution_count": null,
   "metadata": {},
   "outputs": [],
   "source": []
  },
  {
   "cell_type": "code",
   "execution_count": null,
   "metadata": {},
   "outputs": [],
   "source": []
  },
  {
   "cell_type": "code",
   "execution_count": null,
   "metadata": {},
   "outputs": [],
   "source": []
  }
 ],
 "metadata": {
  "kernelspec": {
   "display_name": "Python 3",
   "language": "python",
   "name": "python3"
  },
  "language_info": {
   "codemirror_mode": {
    "name": "ipython",
    "version": 3
   },
   "file_extension": ".py",
   "mimetype": "text/x-python",
   "name": "python",
   "nbconvert_exporter": "python",
   "pygments_lexer": "ipython3",
   "version": "3.7.1"
  }
 },
 "nbformat": 4,
 "nbformat_minor": 2
}
